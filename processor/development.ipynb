{
 "cells": [
  {
   "cell_type": "code",
   "execution_count": 3,
   "metadata": {},
   "outputs": [],
   "source": [
    "import pandas as pd\n",
    "import numpy as np\n",
    "import requests\n",
    "import datetime\n",
    "import time"
   ]
  },
  {
   "cell_type": "code",
   "execution_count": 4,
   "metadata": {},
   "outputs": [],
   "source": [
    "bdata = pd.read_html(\"https://coinmarketcap.com/currencies/bitcoin/historical-data/?start=20150101&end=\"+time.strftime(\"%Y%m%d\"))[0]"
   ]
  },
  {
   "cell_type": "code",
   "execution_count": 5,
   "metadata": {},
   "outputs": [],
   "source": [
    "bdata = bdata.assign(Date=pd.to_datetime(bdata['Date']))\n",
    "bdata['Volume'] = bdata['Volume'].astype('int64')\n",
    "\n",
    "kwargs = {\n",
    "            'Close Off High': lambda x: 2*(x['High'] - x['Close'])/(x['High'] - x['Low'])-1,\n",
    "             'Volatility': lambda x: (x['High'] - x['Low'])/(x['Open'])\n",
    "         }\n",
    "\n",
    "bdata = bdata.assign(**kwargs)\n",
    "\n",
    "# Get only relevant columns\n",
    "mdata = bdata[['Date']+['Close']+['Volume']+['Close Off High']+['Volatility']]\n",
    "mdata = mdata.sort_values(by='Date')"
   ]
  },
  {
   "cell_type": "code",
   "execution_count": 6,
   "metadata": {},
   "outputs": [
    {
     "data": {
      "text/html": [
       "<div>\n",
       "<style scoped>\n",
       "    .dataframe tbody tr th:only-of-type {\n",
       "        vertical-align: middle;\n",
       "    }\n",
       "\n",
       "    .dataframe tbody tr th {\n",
       "        vertical-align: top;\n",
       "    }\n",
       "\n",
       "    .dataframe thead th {\n",
       "        text-align: right;\n",
       "    }\n",
       "</style>\n",
       "<table border=\"1\" class=\"dataframe\">\n",
       "  <thead>\n",
       "    <tr style=\"text-align: right;\">\n",
       "      <th></th>\n",
       "      <th>Date</th>\n",
       "      <th>Close</th>\n",
       "      <th>Volume</th>\n",
       "      <th>Close Off High</th>\n",
       "      <th>Volatility</th>\n",
       "    </tr>\n",
       "  </thead>\n",
       "  <tbody>\n",
       "    <tr>\n",
       "      <th>1205</th>\n",
       "      <td>2015-01-01</td>\n",
       "      <td>314.25</td>\n",
       "      <td>8036550</td>\n",
       "      <td>0.922360</td>\n",
       "      <td>0.020097</td>\n",
       "    </tr>\n",
       "    <tr>\n",
       "      <th>1204</th>\n",
       "      <td>2015-01-02</td>\n",
       "      <td>315.03</td>\n",
       "      <td>7860650</td>\n",
       "      <td>-0.289474</td>\n",
       "      <td>0.007259</td>\n",
       "    </tr>\n",
       "    <tr>\n",
       "      <th>1203</th>\n",
       "      <td>2015-01-03</td>\n",
       "      <td>281.08</td>\n",
       "      <td>33054400</td>\n",
       "      <td>1.000000</td>\n",
       "      <td>0.108210</td>\n",
       "    </tr>\n",
       "    <tr>\n",
       "      <th>1202</th>\n",
       "      <td>2015-01-04</td>\n",
       "      <td>264.19</td>\n",
       "      <td>55629100</td>\n",
       "      <td>0.555706</td>\n",
       "      <td>0.105353</td>\n",
       "    </tr>\n",
       "    <tr>\n",
       "      <th>1201</th>\n",
       "      <td>2015-01-05</td>\n",
       "      <td>274.47</td>\n",
       "      <td>43962800</td>\n",
       "      <td>-0.416290</td>\n",
       "      <td>0.050023</td>\n",
       "    </tr>\n",
       "  </tbody>\n",
       "</table>\n",
       "</div>"
      ],
      "text/plain": [
       "           Date   Close    Volume  Close Off High  Volatility\n",
       "1205 2015-01-01  314.25   8036550        0.922360    0.020097\n",
       "1204 2015-01-02  315.03   7860650       -0.289474    0.007259\n",
       "1203 2015-01-03  281.08  33054400        1.000000    0.108210\n",
       "1202 2015-01-04  264.19  55629100        0.555706    0.105353\n",
       "1201 2015-01-05  274.47  43962800       -0.416290    0.050023"
      ]
     },
     "execution_count": 6,
     "metadata": {},
     "output_type": "execute_result"
    }
   ],
   "source": [
    "mdata.head()"
   ]
  },
  {
   "cell_type": "code",
   "execution_count": 21,
   "metadata": {},
   "outputs": [],
   "source": [
    "import matplotlib.pyplot as plt\n",
    "from sklearn.model_selection import train_test_split\n",
    "from sklearn.metrics import mean_squared_error as mse\n",
    "from sklearn.linear_model import LinearRegression"
   ]
  },
  {
   "cell_type": "code",
   "execution_count": 22,
   "metadata": {},
   "outputs": [],
   "source": [
    "def train_test_rmse(df, feature_cols, testsize):\n",
    "    X = df[feature_cols]\n",
    "    y = df['Close']\n",
    "    \n",
    "    X_train, X_test, y_train, y_test = train_test_split(X, y, random_state=80, test_size=testsize)\n",
    "    \n",
    "    linreg = LinearRegression()\n",
    "    linreg.fit(X_train, y_train)\n",
    "\n",
    "    y_pred = linreg.predict(X_test)\n",
    "    \n",
    "    plt.scatter(y_test, y_pred)\n",
    "    plt.xlabel('Actual Prices')\n",
    "    plt.ylabel('Predicted Prices')\n",
    "    print('RMSE: %f'%np.sqrt(mse(y_test, y_pred)))"
   ]
  },
  {
   "cell_type": "code",
   "execution_count": 24,
   "metadata": {},
   "outputs": [
    {
     "data": {
      "text/plain": [
       "(1206, 5)"
      ]
     },
     "execution_count": 24,
     "metadata": {},
     "output_type": "execute_result"
    }
   ],
   "source": [
    "mdata.shape"
   ]
  },
  {
   "cell_type": "code",
   "execution_count": 25,
   "metadata": {},
   "outputs": [],
   "source": [
    "from swifter import swiftapply"
   ]
  },
  {
   "cell_type": "code",
   "execution_count": null,
   "metadata": {},
   "outputs": [],
   "source": []
  }
 ],
 "metadata": {
  "kernelspec": {
   "display_name": "Python 3",
   "language": "python",
   "name": "python3"
  },
  "language_info": {
   "codemirror_mode": {
    "name": "ipython",
    "version": 3
   },
   "file_extension": ".py",
   "mimetype": "text/x-python",
   "name": "python",
   "nbconvert_exporter": "python",
   "pygments_lexer": "ipython3",
   "version": "3.6.5"
  }
 },
 "nbformat": 4,
 "nbformat_minor": 2
}
